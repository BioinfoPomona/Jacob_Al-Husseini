{
 "cells": [
  {
   "cell_type": "markdown",
   "metadata": {},
   "source": [
    "# 1. Population Genetics Simulation\n",
    "\n",
    "Create a program that simulates the allelic frequency in a finite diploid population for a certain number of generations.\n",
    "\n",
    "The program takes as input the initial allele frequencies, the fitness of each genotype, the population size, and the number of generations. Because these simulations are stochastic each run of the simulation will give a different result, to allow an idea of the behavior of the allelic frequencies, your program should repeat the simulations many times for each parameter set and plot all the results in a single graph. The number of simulations should also be determined by the user. You can start your program using the variable definitions in the cell below.\n",
    "\n",
    "Your program should output two graphs. The first should show the allele frequency at each generation, and the other should be a histogram with the final values of the allele frequency. Something like this:\n",
    "\n",
    "![simulation](Sim1.png)\n",
    "\n",
    "![histogram](Sim2.png)\n",
    "\n",
    "Last year a student used this homework as the starting point for her project to create a population genetics simulator for BIOL040. You can see the final project here: http://dna.pomona.edu:5006/pop_gen_sim"
   ]
  },
  {
   "cell_type": "code",
   "execution_count": 2,
   "metadata": {},
   "outputs": [
    {
     "ename": "IndentationError",
     "evalue": "expected an indented block (3596312611.py, line 24)",
     "output_type": "error",
     "traceback": [
      "\u001b[0;36m  File \u001b[0;32m\"/var/folders/nh/ndvtsscj14j399nr6hrzb4440000gn/T/ipykernel_2209/3596312611.py\"\u001b[0;36m, line \u001b[0;32m24\u001b[0m\n\u001b[0;31m    def simulation(initA,inita,fAA,fAa,faa,pop,gen,sim):\u001b[0m\n\u001b[0m                                                        ^\u001b[0m\n\u001b[0;31mIndentationError\u001b[0m\u001b[0;31m:\u001b[0m expected an indented block\n"
     ]
    }
   ],
   "source": [
    "#Packages\n",
    "from numpy import random as rd\n",
    "from plotly.graph_objs import *\n",
    "import plotly.express as px\n",
    "\n",
    "#Allele frequencies\n",
    "initA = 0.50\n",
    "inita = 0.50\n",
    "\n",
    "#Fitnesses\n",
    "fAA = 1\n",
    "fAa = 1\n",
    "faa = 1\n",
    "\n",
    "#Pop Size\n",
    "pop = 1000\n",
    "\n",
    "#Number of generations\n",
    "gen = 100\n",
    "\n",
    "#Number of simulations\n",
    "sim = 100\n",
    "\n",
    "def simulation(initA,inita,fAA,fAa,faa,pop,gen,sim):\n",
    "    \n"
   ]
  }
 ],
 "metadata": {
  "anaconda-cloud": {},
  "kernelspec": {
   "display_name": "Python 3",
   "language": "python",
   "name": "python3"
  },
  "language_info": {
   "codemirror_mode": {
    "name": "ipython",
    "version": 3
   },
   "file_extension": ".py",
   "mimetype": "text/x-python",
   "name": "python",
   "nbconvert_exporter": "python",
   "pygments_lexer": "ipython3",
   "version": "3.9.9"
  }
 },
 "nbformat": 4,
 "nbformat_minor": 1
}
