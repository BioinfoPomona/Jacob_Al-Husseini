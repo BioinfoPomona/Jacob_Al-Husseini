{
 "cells": [
  {
   "cell_type": "markdown",
   "metadata": {},
   "source": [
    "## Homework 8:\n",
    "\n",
    "__Exercise 1.__ Go to prosite and find the Gamma-glutamyl phosphate reductase signature. Write a script to detect all yeast proteins that have the Gamma-glutamyl phosphate reductase signature. Your script should output a dataframe with the folowing info about the proteins: accession number, match to the first, span of the motif, and the protein's description.\n",
    "\n",
    "**NOTE:** You can just copy the file with all the yeast protein form last class in the current directory, you don't need to download it again.\n",
    "\n",
    "```\n",
    "[VA]-x(5)-A-[LIVAMTCK]-x-[HWFY]-[IM]-x(2)-[HYWNRFT]-[GSNT]-[STAG]-x(0,1)-H-[ST]-[DE]-x(1,2)-I\n",
    "```"
   ]
  },
  {
   "cell_type": "code",
   "execution_count": 1,
   "metadata": {
    "collapsed": true
   },
   "outputs": [
    {
     "data": {
      "text/html": [
       "<div>\n",
       "<style scoped>\n",
       "    .dataframe tbody tr th:only-of-type {\n",
       "        vertical-align: middle;\n",
       "    }\n",
       "\n",
       "    .dataframe tbody tr th {\n",
       "        vertical-align: top;\n",
       "    }\n",
       "\n",
       "    .dataframe thead th {\n",
       "        text-align: right;\n",
       "    }\n",
       "</style>\n",
       "<table border=\"1\" class=\"dataframe\">\n",
       "  <thead>\n",
       "    <tr style=\"text-align: right;\">\n",
       "      <th></th>\n",
       "      <th>acc</th>\n",
       "      <th>match</th>\n",
       "      <th>start_end</th>\n",
       "      <th>seq</th>\n",
       "    </tr>\n",
       "  </thead>\n",
       "  <tbody>\n",
       "  </tbody>\n",
       "</table>\n",
       "</div>"
      ],
      "text/plain": [
       "Empty DataFrame\n",
       "Columns: [acc, match, start_end, seq]\n",
       "Index: []"
      ]
     },
     "execution_count": 1,
     "metadata": {},
     "output_type": "execute_result"
    }
   ],
   "source": [
    "from Bio import SeqIO\n",
    "import pandas as pd\n",
    "import re\n",
    "import urllib.request as urreq\n",
    "\n",
    "protFile = 'orf_coding.fasta'\n",
    "information = []\n",
    "\n",
    "pattern = \"[VA]\\w{5}A[LIVAMTCK]\\w[HWFY][IM]\\w{2}[HYWNRFT][GSNT][STAG]\\w{0,1}H[ST][DE]\\w{1,2}I\"\n",
    "for seq_record in SeqIO.parse(protFile, \"fasta\"):\n",
    "    result = re.search(pattern,str(seq_record.seq))\n",
    "    if result:\n",
    "        information.append([seq_record.name ,result.group(), result.span(), str(seq_record.description)])\n",
    " \n",
    "pd.DataFrame(information, columns=['acc','match','start_end','seq'])\n"
   ]
  },
  {
   "cell_type": "code",
   "execution_count": 2,
   "metadata": {},
   "outputs": [
    {
     "data": {
      "text/html": [
       "<div>\n",
       "<style scoped>\n",
       "    .dataframe tbody tr th:only-of-type {\n",
       "        vertical-align: middle;\n",
       "    }\n",
       "\n",
       "    .dataframe tbody tr th {\n",
       "        vertical-align: top;\n",
       "    }\n",
       "\n",
       "    .dataframe thead th {\n",
       "        text-align: right;\n",
       "    }\n",
       "</style>\n",
       "<table border=\"1\" class=\"dataframe\">\n",
       "  <thead>\n",
       "    <tr style=\"text-align: right;\">\n",
       "      <th></th>\n",
       "      <th>acc</th>\n",
       "      <th>match</th>\n",
       "      <th>start_end</th>\n",
       "      <th>seq</th>\n",
       "    </tr>\n",
       "  </thead>\n",
       "  <tbody>\n",
       "  </tbody>\n",
       "</table>\n",
       "</div>"
      ],
      "text/plain": [
       "Empty DataFrame\n",
       "Columns: [acc, match, start_end, seq]\n",
       "Index: []"
      ]
     },
     "execution_count": 2,
     "metadata": {},
     "output_type": "execute_result"
    }
   ],
   "source": [
    "from Bio import SeqIO\n",
    "import pandas as pd\n",
    "import re\n",
    "import urllib.request as urreq\n",
    "\n",
    "protFile = \"orf_coding.fasta\"\n",
    "information = []\n",
    "\n",
    "pattern = \"[VA]\\w{5}A[LIVAMTCK]\\w[HWFY][IM]\\w{2}[HYWNRFT][GSNT][STAG]\\w{0,1}H[ST][DE]\\w{1,2}I\"\n",
    "for seq_record in SeqIO.parse(protFile, \"fasta\"):\n",
    "    result = re.search(pattern,str(seq_record.seq))\n",
    "    if result:\n",
    "        information.append([seq_record.name ,result.group(), result.span(), str(seq_record.description)])\n",
    " \n",
    "pd.DataFrame(information, columns=['acc','match','start_end','seq'])\n"
   ]
  },
  {
   "cell_type": "markdown",
   "metadata": {},
   "source": [
    "__Exercise 2.__ Now do the same for the Hexapeptide-repeat containing-transferases signature.\n",
    "\n",
    "```\n",
    "[LIV]-[GAED]-x(2)-[STAV]-x-[LIV]-x(3)-[LIVAC]-x-[LIV]-[GAED]-x(2)-[STAVR]-x-[LIV]-[GAED]-x(2)-[STAV]-x-[LIV]-x(3)-[LIV]\n",
    "```"
   ]
  },
  {
   "cell_type": "code",
   "execution_count": 4,
   "metadata": {
    "collapsed": true
   },
   "outputs": [
    {
     "data": {
      "text/html": [
       "<div>\n",
       "<style scoped>\n",
       "    .dataframe tbody tr th:only-of-type {\n",
       "        vertical-align: middle;\n",
       "    }\n",
       "\n",
       "    .dataframe tbody tr th {\n",
       "        vertical-align: top;\n",
       "    }\n",
       "\n",
       "    .dataframe thead th {\n",
       "        text-align: right;\n",
       "    }\n",
       "</style>\n",
       "<table border=\"1\" class=\"dataframe\">\n",
       "  <thead>\n",
       "    <tr style=\"text-align: right;\">\n",
       "      <th></th>\n",
       "      <th>acc</th>\n",
       "      <th>match</th>\n",
       "      <th>start_end</th>\n",
       "      <th>seq</th>\n",
       "    </tr>\n",
       "  </thead>\n",
       "  <tbody>\n",
       "  </tbody>\n",
       "</table>\n",
       "</div>"
      ],
      "text/plain": [
       "Empty DataFrame\n",
       "Columns: [acc, match, start_end, seq]\n",
       "Index: []"
      ]
     },
     "execution_count": 4,
     "metadata": {},
     "output_type": "execute_result"
    }
   ],
   "source": [
    "protFile = \"orf_trans.fasta\"\n",
    "\n",
    "pattern = \"[LIV][GAED]\\w{2}[STAV]\\w[LIV]\\w{3}[LIVAC]\\w[LIV][GAED]\\w{2}[STAVR]\\w[LIV][GAED]\\w{2}[STAV]\\w[LIV]\\w{3}[LIV]\"\n",
    "\n",
    "information2 = []\n",
    "\n",
    "for seq_record in SeqIO.parse(protFile, \"fasta\"):\n",
    "    result = re.search(pattern,str(seq_record.seq))\n",
    "    if result:\n",
    "        information.append([seq_record.name ,result.group(), result.span(), str(seq_record.description)])\n",
    " \n",
    "pd.DataFrame(information2, columns=['acc','match','start_end','seq'])"
   ]
  },
  {
   "cell_type": "markdown",
   "metadata": {},
   "source": [
    "__Exercise 3.__ Now find the 14-3-3 proteins signatures. The 14-3-3 proteins seem to have multiple biological activities and play a key role in signal transduction pathways and the cell cycle. The prosite database uses two motifs to determine members of this family.\n",
    "\n",
    "Write a script to search for proteins in yeast that have both domains in either order. You should find two proteins.\n",
    "\n",
    "Your script should show a dataframe with the proteins: accession number, match to the first motif, span of the first motif, match to the second motif, span of the second motif, and the proteins description.\n",
    "\n",
    "Although your regex doesn't need to match the domains in the reverse order for it to identify both yeast proteins, I would like for you to write a regex that would be able to identify such a case for this exercise purpose.\n",
    "\n",
    "```\n",
    "[RA]-N-L-[LIV]-S-[VG]-[GA]-Y-[KN]-N-[IVA]\n",
    "```\n",
    "\n",
    "and\n",
    "\n",
    "```\n",
    "Y-K-[DE]-[SG]-T-L-I-[IML]-Q-L-[LF]-[RHC]-D-N-[LF]-T-[LS]-W-[TANS]-[SAD]\n",
    "```"
   ]
  },
  {
   "cell_type": "code",
   "execution_count": 7,
   "metadata": {
    "collapsed": true
   },
   "outputs": [
    {
     "data": {
      "text/html": [
       "<div>\n",
       "<style scoped>\n",
       "    .dataframe tbody tr th:only-of-type {\n",
       "        vertical-align: middle;\n",
       "    }\n",
       "\n",
       "    .dataframe tbody tr th {\n",
       "        vertical-align: top;\n",
       "    }\n",
       "\n",
       "    .dataframe thead th {\n",
       "        text-align: right;\n",
       "    }\n",
       "</style>\n",
       "<table border=\"1\" class=\"dataframe\">\n",
       "  <thead>\n",
       "    <tr style=\"text-align: right;\">\n",
       "      <th></th>\n",
       "      <th>acc</th>\n",
       "      <th>match_domain</th>\n",
       "      <th>start_end</th>\n",
       "      <th>match_domain2</th>\n",
       "      <th>start_end2</th>\n",
       "      <th>seq</th>\n",
       "    </tr>\n",
       "  </thead>\n",
       "  <tbody>\n",
       "    <tr>\n",
       "      <th>0</th>\n",
       "      <td>YDR099W</td>\n",
       "      <td>RNLLSVAYKNV</td>\n",
       "      <td>(42, 53)</td>\n",
       "      <td>YKDSTLIMQLLRDNLTLWTS</td>\n",
       "      <td>(215, 235)</td>\n",
       "      <td>YDR099W BMH2 SGDID:S000002506, Chr IV from 653...</td>\n",
       "    </tr>\n",
       "    <tr>\n",
       "      <th>1</th>\n",
       "      <td>YER177W</td>\n",
       "      <td>RNLLSVAYKNV</td>\n",
       "      <td>(42, 53)</td>\n",
       "      <td>YKDSTLIMQLLRDNLTLWTS</td>\n",
       "      <td>(215, 235)</td>\n",
       "      <td>YER177W BMH1 SGDID:S000000979, Chr V from 5456...</td>\n",
       "    </tr>\n",
       "  </tbody>\n",
       "</table>\n",
       "</div>"
      ],
      "text/plain": [
       "       acc match_domain start_end         match_domain2  start_end2  \\\n",
       "0  YDR099W  RNLLSVAYKNV  (42, 53)  YKDSTLIMQLLRDNLTLWTS  (215, 235)   \n",
       "1  YER177W  RNLLSVAYKNV  (42, 53)  YKDSTLIMQLLRDNLTLWTS  (215, 235)   \n",
       "\n",
       "                                                 seq  \n",
       "0  YDR099W BMH2 SGDID:S000002506, Chr IV from 653...  \n",
       "1  YER177W BMH1 SGDID:S000000979, Chr V from 5456...  "
      ]
     },
     "execution_count": 7,
     "metadata": {},
     "output_type": "execute_result"
    }
   ],
   "source": [
    "Sig1 = \"[RA]NL[LIV]S[VG][GA]Y[KN]N[IVA]\"\n",
    "\n",
    "Sig2 = \"YK[DE][SG]TLI[IML]QL[LF][RHC]DN[LF]T[LS]W[TANS][SAD]\"\n",
    "\n",
    "peptide = []\n",
    "\n",
    "for seq_record in SeqIO.parse(protFile, \"fasta\"):\n",
    "    result = re.search(Sig1,str(seq_record.seq))\n",
    "    result2 = re.search(Sig2, str(seq_record.seq))\n",
    "    if result and result2:\n",
    "        peptide.append([seq_record.name ,result.group(), result.span(), result2.group(), result2.span(), str(seq_record.description)])\n",
    " \n",
    "pd.DataFrame(peptide, columns=['acc','match_domain','start_end', 'match_domain2','start_end2','seq'])"
   ]
  },
  {
   "cell_type": "markdown",
   "metadata": {},
   "source": [
    "__Exercise 4.__ Parsing and extracting data from a URL:\n",
    "\n",
    "This is form the tutorial that you should have completed.\n",
    "\n",
    "When working with files and resources over a network, you will often come across URIs and URLs which can be parsed and worked with directly. Most standard libraries will have classes to parse and construct these kind of identifiers, but if you need to match them in logs or a larger corpus of text, you can use regular expressions to pull out information from their structured format quite easily.\n",
    "\n",
    "URIs, or Uniform Resource Identifiers, are a representation of a resource that is generally composed of a scheme, host, port (optional), and resource path, respectively highlighted below.\n",
    "\n",
    "http://regexone.com:80/page\n",
    "\n",
    "The scheme describes the protocol to communicate with, the host and port describe the source of the resource, and the full path describes the location at the source for the resource.\n",
    "\n",
    "In the exercise below, try to extract the protocol, host and port of the all the resources listed in this string.\n",
    "\n",
    "```\n",
    "ftp://file_server.com:21/top_secret/life_changing_plans.pdf\n",
    "https://regexone.com/lesson/introduction#section\n",
    "file://localhost:4040/zip_file\n",
    "https://s3cur3-server.com:9999/\n",
    "market://search/angry%20birds\n",
    "```\n",
    "\n",
    "You can work interactively here: https://regexone.com/problem/extracting_url_data to find the right regular expression, then use re.finditer to create a dataframe with columns protocol, host and port for each of the matches in the string."
   ]
  },
  {
   "cell_type": "code",
   "execution_count": 9,
   "metadata": {
    "collapsed": true
   },
   "outputs": [
    {
     "data": {
      "text/html": [
       "<div>\n",
       "<style scoped>\n",
       "    .dataframe tbody tr th:only-of-type {\n",
       "        vertical-align: middle;\n",
       "    }\n",
       "\n",
       "    .dataframe tbody tr th {\n",
       "        vertical-align: top;\n",
       "    }\n",
       "\n",
       "    .dataframe thead th {\n",
       "        text-align: right;\n",
       "    }\n",
       "</style>\n",
       "<table border=\"1\" class=\"dataframe\">\n",
       "  <thead>\n",
       "    <tr style=\"text-align: right;\">\n",
       "      <th></th>\n",
       "      <th>Protocol</th>\n",
       "      <th>Host</th>\n",
       "      <th>Port</th>\n",
       "    </tr>\n",
       "  </thead>\n",
       "  <tbody>\n",
       "    <tr>\n",
       "      <th>0</th>\n",
       "      <td>ftp</td>\n",
       "      <td>file_server.com:21</td>\n",
       "      <td></td>\n",
       "    </tr>\n",
       "    <tr>\n",
       "      <th>1</th>\n",
       "      <td>https</td>\n",
       "      <td>regexone.com</td>\n",
       "      <td></td>\n",
       "    </tr>\n",
       "    <tr>\n",
       "      <th>2</th>\n",
       "      <td>file</td>\n",
       "      <td>localhost:4040</td>\n",
       "      <td></td>\n",
       "    </tr>\n",
       "    <tr>\n",
       "      <th>3</th>\n",
       "      <td>https</td>\n",
       "      <td>s3cur3-server.com:9999</td>\n",
       "      <td></td>\n",
       "    </tr>\n",
       "    <tr>\n",
       "      <th>4</th>\n",
       "      <td>market</td>\n",
       "      <td>search</td>\n",
       "      <td></td>\n",
       "    </tr>\n",
       "  </tbody>\n",
       "</table>\n",
       "</div>"
      ],
      "text/plain": [
       "  Protocol                    Host Port\n",
       "0      ftp      file_server.com:21     \n",
       "1    https            regexone.com     \n",
       "2     file          localhost:4040     \n",
       "3    https  s3cur3-server.com:9999     \n",
       "4   market                  search     "
      ]
     },
     "execution_count": 9,
     "metadata": {},
     "output_type": "execute_result"
    }
   ],
   "source": [
    "str = '''\n",
    "ftp://file_server.com:21/top_secret/life_changing_plans.pdf\n",
    "https://regexone.com/lesson/introduction#section\n",
    "file://localhost:4040/zip_file\n",
    "https://s3cur3-server.com:9999/\n",
    "market://search/angry%20birds\n",
    "'''\n",
    "\n",
    "data = []\n",
    "\n",
    "for a in re.finditer('([^:\\\\n]+)://([^/]+):?([^/]*)/(.*)', str):\n",
    "    data.append([a.group(1), a.group(2), a.group(3)])\n",
    "data\n",
    "\n",
    "pd.DataFrame(data, columns = [\"Protocol\", \"Host\", \"Port\"])"
   ]
  },
  {
   "cell_type": "code",
   "execution_count": null,
   "metadata": {},
   "outputs": [],
   "source": []
  }
 ],
 "metadata": {
  "kernelspec": {
   "display_name": "Python 3",
   "language": "python",
   "name": "python3"
  },
  "language_info": {
   "codemirror_mode": {
    "name": "ipython",
    "version": 3
   },
   "file_extension": ".py",
   "mimetype": "text/x-python",
   "name": "python",
   "nbconvert_exporter": "python",
   "pygments_lexer": "ipython3",
   "version": "3.9.9"
  }
 },
 "nbformat": 4,
 "nbformat_minor": 2
}
