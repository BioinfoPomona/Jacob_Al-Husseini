{
 "cells": [
  {
   "cell_type": "markdown",
   "metadata": {},
   "source": [
    "| Mutation   |      Alteration      |  Cases  |\n",
    "|----------|:-------------:|------:|\n",
    "| H3F3A    |     K28M     | 37 |\n",
    "| TP53     |    -Exon 5   | 22 |\n",
    "| PIK3CA   | 545 Missense | 13 |\n",
    "| HIST1H3B |     K28M     | 9  |"
   ]
  },
  {
   "cell_type": "code",
   "execution_count": 158,
   "metadata": {},
   "outputs": [
    {
     "data": {
      "image/svg+xml": "<svg xmlns=\"http://www.w3.org/2000/svg\" xmlns:xlink=\"http://www.w3.org/1999/xlink\" width=\"600\" height=\"330\">\n\n    <rect x=\"0\" y=\"0\" width=\"600\" height=\"330\" fill=\"white\"/>\n    \n    <rect x=\"230\" y=\"170\" width=\"150\" height=\"160\" fill=\"beige\" stroke=\"black\"/>\n\n    <rect x=\"230\" y=\"170\" width=\"150\" height=\"160\" fill=\"beige\" stroke=\"black\"/>\n\n    <rect x=\"295\" y=\"300\" width=\"20\" height=\"30\" fill=\"red\"/>\n\n    <rect x=\"255\" y=\"200\" width=\"25\" height=\"25\" stroke=\"black\" fill=\"white\"/>\n\n    <rect x=\"330\" y=\"200\" width=\"25\" height=\"25\" stroke=\"black\" fill=\"white\"/>\n\n    <circle cx=\"30\" cy=\"30\" r=\"90\" fill=\"orange\" stroke=\"yellow\"/>\n \n    <circle cx=\"30\" cy=\"30\" r=\"80\" fill=\"yellow\" stroke=\"orange\"/>\n\n  <polygon points=\"310,80 380,170 230,170\" style=\"fill:beige;stroke:black;stroke-width:1\"/>\n\n  <circle cx=\"20\" cy=\"30\" r=\"5\" fill=\"black\" stroke=\"black\"/>\n  <circle cx=\"70\" cy=\"30\" r=\"5\" fill=\"black\" stroke=\"black\"/>\n\n  <path d=\"M10,40            C20,40  65,60  80,30\" fill=\"none\" stroke=\"#000\" stroke-width=\"3px\"/>\n\n   <rect x=\"51\" y=\"46\" width=\"7\" height=\"10\" fill=\"white\" stroke=\"black\"/>\n\n</svg>",
      "text/plain": [
       "<IPython.core.display.SVG object>"
      ]
     },
     "metadata": {},
     "output_type": "display_data"
    }
   ],
   "source": [
    "%%SVG\n",
    "<svg width=\"600\" height=\"330\" xmlns=\"http://www.w3.org/2000/svg\"\n",
    "     xmlns:xlink=\"http://www.w3.org/1999/xlink\">\n",
    "\n",
    "    <rect x=\"0\" y=\"0\" width=\"600\" height=\"330\" fill=\"white\" />\n",
    "    \n",
    "    <rect x=\"230\" y=\"170\" width=\"150\" height=\"160\" fill=\"beige\" stroke=\"black\"/>\n",
    "\n",
    "    <rect x=\"230\" y=\"170\" width=\"150\" height=\"160\" fill=\"beige\" stroke=\"black\"/>\n",
    "\n",
    "    <rect x=\"295\" y=\"300\" width=\"20\" height=\"30\" fill=\"red\" />\n",
    "\n",
    "    <rect x=\"255\" y=\"200\" width=\"25\" height=\"25\" stroke=\"black\" fill=\"white\" />\n",
    "\n",
    "    <rect x=\"330\" y=\"200\" width=\"25\" height=\"25\" stroke=\"black\" fill=\"white\" />\n",
    "\n",
    "    <circle cx=\"30\" cy=\"30\" r=\"90\" fill=\"orange\" stroke=\"yellow\" />\n",
    " \n",
    "    <circle cx=\"30\" cy=\"30\" r=\"80\" fill=\"yellow\" stroke=\"orange\" />\n",
    "\n",
    "  <polygon points=\"310,80 380,170 230,170\" style=\"fill:beige;stroke:black;stroke-width:1\" />\n",
    "\n",
    "  <circle cx=\"20\" cy=\"30\" r=\"5\" fill=\"black\" stroke=\"black\" />\n",
    "  <circle cx=\"70\" cy=\"30\" r=\"5\" fill=\"black\" stroke=\"black\" />\n",
    "\n",
    "  <path d=\"M10,40\n",
    "           C20,40  65,60  80,30\"\n",
    "   fill=\"none\" stroke=\"#000\" stroke-width=\"3px\" />\n",
    "\n",
    "   <rect x=\"51\" y=\"46\" width=\"7\" height=\"10\" fill=\"white\" stroke=\"black\" />\n",
    "\n",
    "</svg>"
   ]
  },
  {
   "cell_type": "code",
   "execution_count": null,
   "metadata": {},
   "outputs": [],
   "source": []
  }
 ],
 "metadata": {
  "interpreter": {
   "hash": "31f2aee4e71d21fbe5cf8b01ff0e069b9275f58929596ceb00d14d90e3e16cd6"
  },
  "kernelspec": {
   "display_name": "Python 3.8.2 64-bit",
   "language": "python",
   "name": "python3"
  },
  "language_info": {
   "codemirror_mode": {
    "name": "ipython",
    "version": 3
   },
   "file_extension": ".py",
   "mimetype": "text/x-python",
   "name": "python",
   "nbconvert_exporter": "python",
   "pygments_lexer": "ipython3",
   "version": "3.9.9"
  },
  "orig_nbformat": 4
 },
 "nbformat": 4,
 "nbformat_minor": 2
}
