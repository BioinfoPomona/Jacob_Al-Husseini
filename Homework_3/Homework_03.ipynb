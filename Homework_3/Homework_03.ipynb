{
 "cells": [
  {
   "cell_type": "markdown",
   "metadata": {},
   "source": [
    "# Homework 3:\n",
    "\n",
    "Do these exercises individually. You should use this ipython notebook and for each question you should have one code cell with you answer. Copy this notebook to your individual local repository in a directory called \"Homework_03\" and when you are done push the changes and sync with your github repository. If any of the questions need a separate file to be read by your program, add it to the same directory and make sure to push the file as well.\n",
    "\n",
    "A lot of these exercises are from this webpage: http://www.ling.gu.se/~lager/python_exercises.html. There are answers to these exercises online. Please do not copy the answers, you can search online for ideas but avoid using the text of the question on google."
   ]
  },
  {
   "cell_type": "markdown",
   "metadata": {},
   "source": [
    "__Exercise 1.__ Write a Python program that asks the user for the radius of a circle and computes the area of the circle."
   ]
  },
  {
   "cell_type": "code",
   "execution_count": 139,
   "metadata": {
    "collapsed": true
   },
   "outputs": [
    {
     "name": "stdout",
     "output_type": "stream",
     "text": [
      "Area of Circle: 3.14\n"
     ]
    }
   ],
   "source": [
    "##Area of circle via user-defined radius:\n",
    "\n",
    "radius=float(input(\"Radius of Circle:\"))\n",
    "pi=3.14159265\n",
    "area=pi*radius*radius\n",
    "print(\"Area of Circle= %.4f\" %area)\n"
   ]
  },
  {
   "cell_type": "markdown",
   "metadata": {},
   "source": [
    "__Exercise 2.__ Write a Python program that asks the user for a filename, and returns the extension of the file. Examples:\n",
    "\n",
    "* **test.txt**, extension is txt\n",
    "* **notebook.ipynb**, extension is ipynb\n",
    "* **case.1.txt**, extension is txt\n",
    "* **item.1.2.a.doc**, extension is doc\n",
    "* **file**, no extension, your program should return something saying that there is no extension"
   ]
  },
  {
   "cell_type": "code",
   "execution_count": 110,
   "metadata": {
    "collapsed": true
   },
   "outputs": [
    {
     "name": "stdout",
     "output_type": "stream",
     "text": [
      "File type: txt\n"
     ]
    }
   ],
   "source": [
    "file=str(input(\"File Name\"))\n",
    "Extension=file.split(\".\")\n",
    "extension_length=len(Extension)\n",
    "if \".\" not in file:\n",
    "    print(\"There is no file type.\")\n",
    "else:\n",
    "    print(\"File type:\",Extension[-1])\n"
   ]
  },
  {
   "cell_type": "markdown",
   "metadata": {},
   "source": [
    "__Exercise 3.__ Write a Python program that requests two points from the user (in the form X, Y) computes the euclidian distance between the two points. In other words, given two points (x1,y1) and (x2, y2), return the distance between the points, given by:\n",
    "\n",
    "$$\n",
    "\\begin{equation*} d=\\sqrt{(x_2-x_1)^2+(y_2-y_1)^2} \\end{equation*}\n",
    "$$"
   ]
  },
  {
   "cell_type": "code",
   "execution_count": 112,
   "metadata": {},
   "outputs": [
    {
     "name": "stdout",
     "output_type": "stream",
     "text": [
      "(x1,y1)= ( 1 , 1 )\n",
      "(x2,y2)= ( 2 , 2 )\n",
      "Euclidian Distance = 1.4142135623730951\n"
     ]
    }
   ],
   "source": [
    "import math\n",
    "\n",
    "#Determination and cleaning of Point1\n",
    "point1=str(input(\"Please enter a point in the format x1,y1\"))\n",
    "location1=int(point1.index(\",\"))\n",
    "x1=int(point1[:location1])\n",
    "y1=(point1[location1:])\n",
    "y1=int(y1.replace(',',''))\n",
    "\n",
    "\n",
    "##Determination and cleaning of Point2\n",
    "point2=str(input(\"Please enter a point in the format x2,y2\"))\n",
    "location2=int(point2.index(\",\"))\n",
    "x2=int(point2[:location2])\n",
    "y2=point2[location2:]\n",
    "y2=int(y2.replace(',',''))\n",
    "\n",
    "##Confirm points\n",
    "print(\"(x1,y1)=\",\"(\",(x1),\",\",(y1),\")\")\n",
    "print(\"(x2,y2)=\",\"(\",(x2),\",\",(y2),\")\")\n",
    "\n",
    "##Distance calculation\n",
    "distance=((((x2-x1))**2)+((y2-y1)**2))\n",
    "Distance=math.sqrt(distance)\n",
    "\n",
    "print(\"Euclidian Distance =\", Distance)"
   ]
  },
  {
   "cell_type": "markdown",
   "metadata": {},
   "source": [
    "__Exercise 4.__ Create a **function** called `max_in_list()` that takes a list of numbers of any length and returns the largest one without using python's builtin `max()`. Your program should work for any numbers, including negative numbers. "
   ]
  },
  {
   "cell_type": "code",
   "execution_count": 87,
   "metadata": {},
   "outputs": [
    {
     "name": "stdout",
     "output_type": "stream",
     "text": [
      "Maximum value in list: 5\n"
     ]
    }
   ],
   "source": [
    "def max_in_list():\n",
    "    list=str(input(\"List of numbers separated by commas.\"))\n",
    "    Sorted=list.split(\",\")\n",
    "    Sorted.sort(reverse=True)\n",
    "    print(\"Maximum value in list:\", Sorted[0])\n",
    "\n",
    "max_in_list()"
   ]
  },
  {
   "cell_type": "markdown",
   "metadata": {},
   "source": [
    "__Exercise 5.__ Write a **function** `translate()` that will translate a text into pig Latin. According to wikipedia here are the rules for pig latin:\n",
    "\n",
    "1. For words that begin with consonant sounds, all letters before the initial vowel are placed at the end of the word sequence. Then, \"ay\" (some people just add \"a\") is added, as in the following examples:\n",
    "  * pig → igpay\n",
    "  * banana → ananabay\n",
    "  * trash → ashtray\n",
    "  * happy → appyhay\n",
    "2. For words which begin with vowel sounds or silent letter, one just adds \"yay\" to the end. Examples are:\n",
    "  * eat → eatyay\n",
    "  * omelet → omeletyay\n",
    "  \n",
    "Your program should work at least for the following text:\n",
    "\n",
    "Hello. My name is Andre. \n",
    "\n",
    "And it should return:\n",
    "\n",
    "ellohay. ymay amenay isyay andreyay. "
   ]
  },
  {
   "cell_type": "code",
   "execution_count": 1,
   "metadata": {
    "collapsed": true
   },
   "outputs": [
    {
     "name": "stdout",
     "output_type": "stream",
     "text": [
      "Translation: atwhay usay upay\n"
     ]
    }
   ],
   "source": [
    "def translate():\n",
    "    sentence=str(input(\"Enter a sentence to be translated: \"))\n",
    "    words=sentence.split()\n",
    "    for i, word in enumerate(words):\n",
    "        if word[0] in \"aeiou\":\n",
    "            words[i]=str(words[i])+\"ay\"\n",
    "        else:\n",
    "            has_vowel = False\n",
    "            for j, letter in enumerate(word):\n",
    "                if letter in \"aeiou\":\n",
    "                    words[i]=str(words[i][j:])+str(words[i][:j])+\"ay\"\n",
    "                    has_vowel=True\n",
    "                    break\n",
    "            if(has_vowel==False):\n",
    "                words[i]=str(words[i])+\"ay\"\n",
    "    platin=\" \".join(words)\n",
    "    print(\"Translation:\",platin)\n",
    "\n",
    "translate()\n",
    "\n"
   ]
  },
  {
   "cell_type": "markdown",
   "metadata": {},
   "source": [
    "__Exercise 6.__  Palindromes are words or phrases that read the same when written backwards.Create a **function** `is_palindrome()` that receives a string variable and determines if it is a palindrome. \n",
    "\n",
    "The function should return true or false, and most importantly, should ignore punctuation, capitalization, and spacing.\n",
    "\n",
    "Palindrome examples: \n",
    "```\n",
    "\"Go hang a salami I'm a lasagna hog.\", \n",
    "\"Was it a rat I saw?\", \n",
    "\"Step on no pets\", \n",
    "\"Sit on a potato pan, Otis\", \n",
    "\"Lisa Bonet ate no basil\", \n",
    "\"Satan, oscillate my metallic sonatas\", \n",
    "\"I roamed under it as a tired nude Maori\", \n",
    "\"Rise to vote sir\", \n",
    "\"Dammit, I'm mad!\"\n",
    "```"
   ]
  },
  {
   "cell_type": "code",
   "execution_count": 3,
   "metadata": {
    "collapsed": true
   },
   "outputs": [
    {
     "data": {
      "text/plain": [
       "True"
      ]
     },
     "execution_count": 3,
     "metadata": {},
     "output_type": "execute_result"
    }
   ],
   "source": [
    "def is_palindrome(s):\n",
    "    z=s.lower().replace(' ','')\n",
    "    x=z.lower().replace(\"'\",'')\n",
    "    y=x.lower().replace(\".\",'')\n",
    "    k=y.lower().replace(\"-\",'')\n",
    "    l=k.lower().replace('?','')\n",
    "    m=l.lower().replace(\"!\",'')\n",
    "    v=m.lower().replace(',','')\n",
    "    j=v.upper()\n",
    "    return j == j[::-1]\n",
    "        \n",
    "s=str(input(\"Please type your potential palindrome here:\"))\n",
    "\n",
    "is_palindrome(s)\n"
   ]
  },
  {
   "cell_type": "markdown",
   "metadata": {},
   "source": [
    "__Exercise 7.__ Write a program that asks the user for a file name, opens the file, reads each line, and uses the `is_palindrome()` function from the previous exercise to print the line to the screen if it is a palindrome.\n",
    "\n",
    "I'll test the program with the palindromes.txt file in this directory. When given this file, your program should output:\n",
    "\n",
    "```\n",
    "was it a rat i saw?!?\n",
    "Are we not drawn onward, we few, drawn onward to new era?\n",
    "A man, a plan, a canal - Panama\n",
    "Never odd or even\n",
    "aviva\n",
    "```"
   ]
  },
  {
   "cell_type": "code",
   "execution_count": 5,
   "metadata": {
    "collapsed": true
   },
   "outputs": [
    {
     "name": "stdout",
     "output_type": "stream",
     "text": [
      "was it a rat i saw?!?\n",
      "Are we not drawn onward, we few, drawn onward to new era?\n",
      "A man, a plan, a canal - Panama\n",
      "Never odd or even\n",
      "aviva\n"
     ]
    }
   ],
   "source": [
    "\n",
    "def is_file_palindrome(filein):\n",
    "    filename=open(filein,\"r\")\n",
    "    for line in filename:\n",
    "        if is_palindrome(line.strip()):\n",
    "            print(line.strip())\n",
    "    return\n",
    "        \n",
    "filein=input(\"Please type file name here:\")\n",
    "\n",
    "is_file_palindrome(filein)\n",
    "\n"
   ]
  },
  {
   "cell_type": "markdown",
   "metadata": {},
   "source": [
    "__Exercise 8.__ According to Wikipedia, a semordnilap is a word or phrase that spells a different word or phrase backwards. (\"Semordnilap\" is itself \"palindromes\" spelled backwards.) Write a semordnilap recogniser that accepts a file name from the user for a file containing a list of words, one per line. The program will read the file and find and print all pairs of words that are semordnilaps to the screen. \n",
    "\n",
    "For example, if \"stressed\" and \"desserts\" are part of the word list, the output should include the pair \"stressed desserts\". Note, by the way, that each pair by itself forms a palindrome. But it should output each pair only once, so if the program output \"stressed desserts\" it should not output \"desserts stressed\".\n",
    "\n",
    "You can test your program using the file: `semordnilap.txt`. It should return:\n",
    "\n",
    "```\n",
    "desserts stressed\n",
    "Semordnilap palindromes\n",
    "```"
   ]
  },
  {
   "cell_type": "code",
   "execution_count": 3,
   "metadata": {
    "collapsed": true
   },
   "outputs": [
    {
     "name": "stdout",
     "output_type": "stream",
     "text": [
      "stressed desserts\n",
      "palindromes semordnilap\n"
     ]
    }
   ],
   "source": [
    "def is_semordnilap():\n",
    "    file=input(\"Please type file name here:\")\n",
    "    file = open(file,'r')\n",
    "    words = []\n",
    "    for word in file:\n",
    "        word = word.strip().lower()\n",
    "        words.append(word)\n",
    "    for i in range(len(words)):\n",
    "        wordinv = words[i][::-1]\n",
    "        for j in range(i+1,len(words)):\n",
    "            if wordinv == words[j]:\n",
    "                print(words[j],words[i])\n",
    "\n",
    "\n",
    "is_semordnilap()\n",
    "\n"
   ]
  },
  {
   "cell_type": "markdown",
   "metadata": {},
   "source": [
    "__Exercise 9.__ Write a program that asks for a filename, reads all the words in the file, calculates the average word length and creates a histogram of words length. \n",
    "\n",
    "A histogram shows how many times you encountered a word of a given size. \n",
    "The output of the program should look like:\n",
    "\n",
    "```\n",
    "The file: filename contains X words, the average length of the words is: Y.\n",
    "Histogram of the word sizes:\n",
    "1: ***********\n",
    "2: ********\n",
    "3: *************\n",
    "4: *********\n",
    "....\n",
    "```\n",
    "\n",
    "I'll test using this file: text.txt. Your output should be:\n",
    "\n",
    "```\n",
    "The file text.txt contains 69 words, with an average word length of 5. Histogram of the word sizes:\n",
    "1: \n",
    "2: *************\n",
    "3: *****\n",
    "4: ***********\n",
    "5: **********\n",
    "6: *********\n",
    "7: ********\n",
    "8: ****\n",
    "9: ****\n",
    "10: **\n",
    "11: *\n",
    "12: *\n",
    "13: *\n",
    "```\n",
    "\n",
    "To do this, you need to find the size of each word, and then count all words of size 1, size 2, etc. Each ```*``` in each row in your histogram represents one occurrence of a word of that size."
   ]
  },
  {
   "cell_type": "code",
   "execution_count": 50,
   "metadata": {},
   "outputs": [
    {
     "name": "stdout",
     "output_type": "stream",
     "text": [
      "t 109\n",
      "e 110\n",
      "x 111\n",
      "t 112\n",
      ". 113\n",
      "t 114\n",
      "x 115\n",
      "t 116\n"
     ]
    }
   ],
   "source": [
    "def word_histogram():\n",
    "    file = input(\"Please type file name here:\")\n",
    "    for line in file:\n",
    "        for word in line:\n",
    "            size = str(len(word))\n",
    "            if size in dict.keys():\n",
    "                dict[size] += 1\n",
    "            else:\n",
    "                dict[size] = 1\n",
    "            print(line,dict[size])\n",
    "\n",
    "word_histogram()\n",
    "    "
   ]
  },
  {
   "cell_type": "code",
   "execution_count": 26,
   "metadata": {
    "collapsed": true
   },
   "outputs": [
    {
     "name": "stdout",
     "output_type": "stream",
     "text": [
      "1 *\n",
      "0 **\n",
      "0 ***\n",
      "0 ****\n",
      "0 *****\n",
      "0 ******\n",
      "0 *******\n",
      "0 ********\n",
      "0 *********\n",
      "0 **********\n",
      "0 ***********\n",
      "0 ************\n",
      "0 *************\n",
      "0 **************\n",
      "0 ***************\n",
      "0 ****************\n",
      "0 *****************\n",
      "0 ******************\n",
      "0 *******************\n",
      "0 ********************\n",
      "0 *********************\n",
      "0 **********************\n",
      "0 ***********************\n",
      "0 ************************\n",
      "0 *************************\n",
      "0 **************************\n",
      "0 ***************************\n",
      "0 ****************************\n",
      "0 *****************************\n",
      "0 ******************************\n",
      "0 *******************************\n",
      "0 ********************************\n",
      "0 *********************************\n",
      "0 **********************************\n",
      "0 ***********************************\n",
      "0 ************************************\n",
      "0 *************************************\n",
      "0 **************************************\n",
      "0 ***************************************\n",
      "0 ****************************************\n",
      "0 *****************************************\n",
      "0 ******************************************\n",
      "0 *******************************************\n",
      "0 ********************************************\n",
      "0 *********************************************\n",
      "0 **********************************************\n",
      "0 ***********************************************\n",
      "0 ************************************************\n",
      "0 *************************************************\n",
      "0 **************************************************\n",
      "0 ***************************************************\n",
      "0 ****************************************************\n",
      "0 *****************************************************\n",
      "0 ******************************************************\n",
      "0 *******************************************************\n",
      "0 ********************************************************\n",
      "0 *********************************************************\n",
      "0 **********************************************************\n",
      "0 ***********************************************************\n",
      "0 ************************************************************\n",
      "0 *************************************************************\n",
      "0 **************************************************************\n",
      "0 ***************************************************************\n",
      "0 ****************************************************************\n",
      "0 *****************************************************************\n",
      "0 ******************************************************************\n",
      "0 *******************************************************************\n",
      "0 ********************************************************************\n",
      "0 *********************************************************************\n",
      "0 **********************************************************************\n",
      "0 ***********************************************************************\n",
      "0 ************************************************************************\n",
      "0 *************************************************************************\n",
      "0 **************************************************************************\n",
      "0 ***************************************************************************\n",
      "0 ****************************************************************************\n",
      "0 *****************************************************************************\n",
      "0 ******************************************************************************\n",
      "0 *******************************************************************************\n",
      "0 ********************************************************************************\n",
      "0 *********************************************************************************\n",
      "0 **********************************************************************************\n",
      "0 ***********************************************************************************\n",
      "0 ************************************************************************************\n",
      "0 *************************************************************************************\n",
      "0 **************************************************************************************\n",
      "0 ***************************************************************************************\n",
      "0 ****************************************************************************************\n",
      "0 *****************************************************************************************\n",
      "0 ******************************************************************************************\n",
      "0 *******************************************************************************************\n",
      "0 ********************************************************************************************\n",
      "0 *********************************************************************************************\n",
      "0 **********************************************************************************************\n",
      "0 ***********************************************************************************************\n",
      "0 ************************************************************************************************\n",
      "0 *************************************************************************************************\n",
      "0 **************************************************************************************************\n",
      "0 ***************************************************************************************************\n",
      "0 ****************************************************************************************************\n"
     ]
    }
   ],
   "source": [
    "import pandas as pd\n",
    "import numpy as np\n",
    "from matplotlib import pyplot as plt\n",
    "import plotly as pl\n",
    "import plotly.graph_objects as go\n",
    "import plotly.express as pxg\n",
    "\n",
    "filename=str(input(\"Please input file name here:\"))\n",
    "filename=open(filename,\"r\")\n",
    "dict={}\n",
    "for line in filename:\n",
    "    for word in line:\n",
    "        size=str(len(word))\n",
    "        if size in dict.keys():\n",
    "            dict[size] += 1\n",
    "        else:\n",
    "            dict[size] = 1\n",
    "        line = 0\n",
    "        for line in filename:\n",
    "            line = 1\n",
    "        print(line,dict[size]*\"*\")\n",
    "\n",
    "\n",
    "    \n",
    "    "
   ]
  },
  {
   "cell_type": "code",
   "execution_count": null,
   "metadata": {},
   "outputs": [],
   "source": []
  },
  {
   "cell_type": "markdown",
   "metadata": {},
   "source": [
    "__Exercise 10.__ Write a program able to play the \"Guess the number\" game, where the number to be guessed is randomly chosen between 1 and 20. This is how it should work when run:\n",
    "\n",
    "```\n",
    "Hello! What is your name?\n",
    "  Andre\n",
    "Well, Andre, I am thinking of a number between 1 and 20.\n",
    "Take a guess.\n",
    "  10\n",
    "Your guess is too low.\n",
    "Take a guess.\n",
    "  15\n",
    "Your guess is too low.\n",
    "Take a guess.\n",
    "  18\n",
    "Good job, Andre! You guessed my number in 3 guesses!\n",
    "```"
   ]
  },
  {
   "cell_type": "code",
   "execution_count": 1,
   "metadata": {
    "collapsed": true
   },
   "outputs": [
    {
     "name": "stdout",
     "output_type": "stream",
     "text": [
      "Hello, what is your name?\n",
      "Hello, Jacob . Do you want to play a game?\n",
      "I am thinking of a number between 1 and 20.\n",
      "Take a guess.\n",
      "12 is too low, try again.\n",
      "15 is too low, try again.\n",
      "17 is too low, try again.\n",
      "20 is too high, try again.\n",
      "Well done!\n"
     ]
    }
   ],
   "source": [
    "print(\"Hello, what is your name?\")\n",
    "name=str(input(\"Your name\"))\n",
    "\n",
    "print(\"Hello,\",name,\".\",\"Do you want to play a game?\")\n",
    "\n",
    "Question=str(input(\"Do you want to play a game? (y/n)\"))\n",
    "if Question ==(\"y\"):\n",
    "    print(\"I am thinking of a number between 1 and 20.\")\n",
    "    print(\"Take a guess.\")\n",
    "    import random\n",
    "    RandomInt=random.randint(1,20)\n",
    "Guess=int(input(\"Guess a number between 1 and 20.\"))\n",
    "if Guess==RandomInt: \n",
    "    print(\"Well done!\")\n",
    "else: \n",
    "    while True:\n",
    "        if Guess == RandomInt:\n",
    "            print(\"Well done!\")\n",
    "            break\n",
    "        elif Guess > RandomInt: \n",
    "            print(Guess,\"is too high, try again.\")\n",
    "        elif Guess < RandomInt: \n",
    "            print(Guess,\"is too low, try again.\")\n",
    "        Guess=int(input(\"Guess again.\"))\n",
    "        \n",
    "\n",
    "if Question ==(\"n\"):\n",
    "    print(\"Maybe another time.\")\n",
    "\n",
    "\n",
    "\n"
   ]
  },
  {
   "cell_type": "code",
   "execution_count": null,
   "metadata": {},
   "outputs": [],
   "source": []
  }
 ],
 "metadata": {
  "anaconda-cloud": {},
  "kernelspec": {
   "display_name": "Python 3",
   "language": "python",
   "name": "python3"
  },
  "language_info": {
   "codemirror_mode": {
    "name": "ipython",
    "version": 3
   },
   "file_extension": ".py",
   "mimetype": "text/x-python",
   "name": "python",
   "nbconvert_exporter": "python",
   "pygments_lexer": "ipython3",
   "version": "3.9.9"
  }
 },
 "nbformat": 4,
 "nbformat_minor": 1
}
