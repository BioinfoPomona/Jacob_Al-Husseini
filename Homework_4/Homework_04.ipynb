{
 "cells": [
  {
   "cell_type": "markdown",
   "metadata": {},
   "source": [
    "# Homework 4:"
   ]
  },
  {
   "cell_type": "markdown",
   "metadata": {},
   "source": [
    "## 1. Play with fasta files.\n",
    "\n",
    "Create a program to analyse all the yeast sequences.\n",
    "\n",
    "__FIRST CELL OF PROBLEM 1:__\n",
    "\n",
    "a. Download all the coding sequences from yeast like in class."
   ]
  },
  {
   "cell_type": "code",
   "execution_count": 1,
   "metadata": {
    "collapsed": true
   },
   "outputs": [
    {
     "name": "stdout",
     "output_type": "stream",
     "text": [
      "  % Total    % Received % Xferd  Average Speed   Time    Time     Time  Current\n",
      "                                 Dload  Upload   Total   Spent    Left  Speed\n",
      "100 3611k  100 3611k    0     0  1180k      0  0:00:03  0:00:03 --:--:-- 1180k\n"
     ]
    }
   ],
   "source": [
    "!curl -o ./resources/orf_coding.fasta.gz http://sgd-archive.yeastgenome.org/sequence/S288C_reference/orf_dna/orf_coding.fasta.gz \n"
   ]
  },
  {
   "cell_type": "markdown",
   "metadata": {},
   "source": [
    "__SECOND CELL OF PROBLEM 1:__\n",
    "\n",
    "b. Use the functions in `myFunctions.py` to read all the sequences in the file.\n",
    "\n",
    "c. Calculate GC content and length of each sequence.\n",
    "\n",
    "d. Make a dictionary of dictionaries with the sequence name as the key, and GC content, length, the sequence of each gene and the protein sequence derived from translating the gene.\n",
    "\n",
    "e. Write the results to a tab delimited file, one sequence per line. Each line should contain, the name of the sequence, GC content, length, DNA seq, and Protein Seq, each of these fields should be separated by tabs."
   ]
  },
  {
   "cell_type": "code",
   "execution_count": 2,
   "metadata": {},
   "outputs": [],
   "source": [
    "filein = open('/Users/jacobalhusseini/Documents/GitHub/Jacob-Al-Husseini/Homework_4/resources/orf_coding.fasta','r')\n",
    "\n",
    "line = filein.readline()\n",
    "seqs = []\n",
    "\n",
    "while line and line[0] == '>':\n",
    "    name = line.lstrip(\">\").strip()\n",
    "    line = filein.readline()\n",
    "    seq = ''\n",
    "    while line and line[0] != '>':\n",
    "        seq = seq + line.strip()\n",
    "        line = filein.readline()\n",
    "    seqs.append((name,seq))\n",
    "\n",
    "#if \"'ATG\"-\"')\" in line:\n",
    "#    print\n",
    "\n",
    "filein.close()\n",
    "\n",
    "#print(seqs)\n",
    "\n",
    "#for x in line:\n",
    "#   if x in [\"GC\", \"GT\", \"GA\", \"GG\", \"CG\", \"CT\", \"CA\", \"CC\" ]\n"
   ]
  },
  {
   "cell_type": "code",
   "execution_count": 3,
   "metadata": {},
   "outputs": [],
   "source": [
    "genCode = {'AAA': 'K', 'AAC': 'N', 'AAG': 'K', 'AAT': 'N',\n",
    "           'ACA': 'T', 'ACC': 'T', 'ACG': 'T', 'ACT': 'T',\n",
    "           'AGA': 'R', 'AGC': 'S', 'AGG': 'R', 'AGT': 'S',\n",
    "           'ATA': 'I', 'ATC': 'I', 'ATG': 'M', 'ATT': 'I',\n",
    "           'CAA': 'Q', 'CAC': 'H', 'CAG': 'Q', 'CAT': 'H',\n",
    "           'CCA': 'P', 'CCC': 'P', 'CCG': 'P', 'CCT': 'P',\n",
    "           'CGA': 'R', 'CGC': 'R', 'CGG': 'R', 'CGT': 'R',\n",
    "           'CTA': 'L', 'CTC': 'L', 'CTG': 'L', 'CTT': 'L',\n",
    "           'GAA': 'E', 'GAC': 'D', 'GAG': 'E', 'GAT': 'D',\n",
    "           'GCA': 'A', 'GCC': 'A', 'GCG': 'A', 'GCT': 'A',\n",
    "           'GGA': 'G', 'GGC': 'G', 'GGG': 'G', 'GGT': 'G',\n",
    "           'GTA': 'V', 'GTC': 'V', 'GTG': 'V', 'GTT': 'V',\n",
    "           'TAA': '*', 'TAC': 'Y', 'TAG': '*', 'TAT': 'Y',\n",
    "           'TCA': 'S', 'TCC': 'S', 'TCG': 'S', 'TCT': 'S',\n",
    "           'TGA': '*', 'TGC': 'C', 'TGG': 'W', 'TGT': 'C',\n",
    "           'TTA': 'L', 'TTC': 'F', 'TTG': 'L', 'TTT': 'F'}\n",
    "\n",
    "def translate(nucSeq, genCode = genCode): #note optional\n",
    "    nucSeq = nucSeq.upper()\n",
    "    aaSeq = ''\n",
    "    for i in range(len(nucSeq) // 3):  # Floor division, returns the integer part of the length divided by three.\n",
    "        codon = nucSeq[i*3:i*3+3]\n",
    "        aaSeq = aaSeq + genCode.get(codon,'X')\n",
    "    return(aaSeq)\n",
    "\n",
    "def readFasta(seqfile):\n",
    "    filein = open(seqfile,'r')\n",
    "    line = filein.readline()\n",
    "    if line[0] != '>':\n",
    "        return \"File should start with a sequence in the first line.\\n\"\n",
    "    nucseqs = []    # create an empty list\n",
    "    aaseqs = []\n",
    "    while line and line[0] == '>':\n",
    "        name = line.lstrip(\">\").strip()\n",
    "        line = filein.readline()\n",
    "        seq = ''\n",
    "        while line and line[0] != '>':\n",
    "            seq = seq + line.strip()\n",
    "            line = filein.readline()\n",
    "\n",
    "        aaseq = translate(seq)\n",
    "        nucseqs.append((name,seq))\n",
    "        aaseqs.append((name,aaseq))\n",
    "    filein.close()\n",
    "    return nucseqs, aaseqs\n"
   ]
  },
  {
   "cell_type": "code",
   "execution_count": 5,
   "metadata": {},
   "outputs": [],
   "source": [
    "total_sequence = readFasta(\"/Users/jacobalhusseini/Documents/GitHub/Jacob-Al-Husseini/Homework_4/resources/orf_coding.fasta\")"
   ]
  },
  {
   "cell_type": "code",
   "execution_count": 7,
   "metadata": {},
   "outputs": [
    {
     "name": "stdout",
     "output_type": "stream",
     "text": [
      "('YAL068C PAU8 SGDID:S000002142, Chr I from 2169-1807, Genome Release 64-3-1, reverse complement, Verified ORF, \"Protein of unknown function; member of the seripauperin multigene family encoded mainly in subtelomeric regions\"', 'ATGGTCAAATTAACTTCAATCGCCGCTGGTGTCGCTGCCATCGCTGCTACTGCTTCTGCAACCACCACTCTAGCTCAATCTGACGAAAGAGTCAACTTGGTGGAATTGGGTGTCTACGTCTCTGATATCAGAGCTCACTTAGCCCAATACTACATGTTCCAAGCCGCCCACCCAACTGAAACCTACCCAGTCGAAGTTGCTGAAGCCGTTTTCAACTACGGTGACTTCACCACCATGTTGACCGGTATTGCTCCAGACCAAGTGACCAGAATGATCACCGGTGTTCCATGGTACTCCAGCAGATTAAAGCCAGCCATCTCCAGTGCTCTATCCAAGGACGGTATCTACACTATCGCAAACTAG')\n",
      "('YAL067W-A YAL067W-A SGDID:S000028593, Chr I from 2480-2707, Genome Release 64-3-1, Uncharacterized ORF, \"Putative protein of unknown function; identified by gene-trapping, microarray-based expression analysis, and genome-wide homology searching\"', 'ATGCCAATTATAGGGGTGCCGAGGTGCCTTATAAAACCCTTTTCTGTGCCTGTGACATTTCCTTTTTCGGTCAAAAAGAATATCCGAATTTTAGATTTGGACCCTCGTACAGAAGCTTATTGTCTAAGCCTGAATTCAGTCTGCTTTAAACGGCTTCCGCGGAGGAAATATTTCCATCTCTTGAATTCGTACAACATTAAACGTGTGTTGGGAGTCGTATACTGTTAG')\n",
      "2\n",
      "0\n",
      "('YAL068C PAU8 SGDID:S000002142, Chr I from 2169-1807, Genome Release 64-3-1, reverse complement, Verified ORF, \"Protein of unknown function; member of the seripauperin multigene family encoded mainly in subtelomeric regions\"', 'ATGGTCAAATTAACTTCAATCGCCGCTGGTGTCGCTGCCATCGCTGCTACTGCTTCTGCAACCACCACTCTAGCTCAATCTGACGAAAGAGTCAACTTGGTGGAATTGGGTGTCTACGTCTCTGATATCAGAGCTCACTTAGCCCAATACTACATGTTCCAAGCCGCCCACCCAACTGAAACCTACCCAGTCGAAGTTGCTGAAGCCGTTTTCAACTACGGTGACTTCACCACCATGTTGACCGGTATTGCTCCAGACCAAGTGACCAGAATGATCACCGGTGTTCCATGGTACTCCAGCAGATTAAAGCCAGCCATCTCCAGTGCTCTATCCAAGGACGGTATCTACACTATCGCAAACTAG')\n",
      "('YAL067W-A YAL067W-A SGDID:S000028593, Chr I from 2480-2707, Genome Release 64-3-1, Uncharacterized ORF, \"Putative protein of unknown function; identified by gene-trapping, microarray-based expression analysis, and genome-wide homology searching\"', 'ATGCCAATTATAGGGGTGCCGAGGTGCCTTATAAAACCCTTTTCTGTGCCTGTGACATTTCCTTTTTCGGTCAAAAAGAATATCCGAATTTTAGATTTGGACCCTCGTACAGAAGCTTATTGTCTAAGCCTGAATTCAGTCTGCTTTAAACGGCTTCCGCGGAGGAAATATTTCCATCTCTTGAATTCGTACAACATTAAACGTGTGTTGGGAGTCGTATACTGTTAG')\n",
      "2\n",
      "0\n"
     ]
    }
   ],
   "source": [
    "#PART C: Calculating sequence length and GC count\n",
    "for x in total_sequence:\n",
    "    seq_name = total_sequence[0][0]\n",
    "    print(seq_name)\n",
    "    sequence = total_sequence[0][1]\n",
    "    print(sequence)\n",
    "    seq_length = len(seq_name)\n",
    "    print(seq_length)\n",
    "    GC_count = sequence.count(\"C\")\n",
    "    print(GC_count)"
   ]
  },
  {
   "cell_type": "markdown",
   "metadata": {},
   "source": [
    "__THIRD CELL OF PROBLEM 1:__\n",
    "\n",
    "f. Make a histogram of the GC content of all yeast genes."
   ]
  },
  {
   "cell_type": "code",
   "execution_count": 32,
   "metadata": {
    "collapsed": true
   },
   "outputs": [
    {
     "ename": "NameError",
     "evalue": "name 'go' is not defined",
     "output_type": "error",
     "traceback": [
      "\u001b[0;31m---------------------------------------------------------------------------\u001b[0m",
      "\u001b[0;31mNameError\u001b[0m                                 Traceback (most recent call last)",
      "\u001b[0;32m/var/folders/nh/ndvtsscj14j399nr6hrzb4440000gn/T/ipykernel_52358/3618727869.py\u001b[0m in \u001b[0;36m<module>\u001b[0;34m\u001b[0m\n\u001b[1;32m      1\u001b[0m \u001b[0;32mimport\u001b[0m \u001b[0mplotly\u001b[0m\u001b[0;34m.\u001b[0m\u001b[0mexpress\u001b[0m \u001b[0;32mas\u001b[0m \u001b[0mpx\u001b[0m\u001b[0;34m\u001b[0m\u001b[0;34m\u001b[0m\u001b[0m\n\u001b[0;32m----> 2\u001b[0;31m \u001b[0mhistogram\u001b[0m \u001b[0;34m=\u001b[0m \u001b[0mgo\u001b[0m\u001b[0;34m.\u001b[0m\u001b[0mhistogram\u001b[0m\u001b[0;34m(\u001b[0m\u001b[0mx\u001b[0m\u001b[0;34m=\u001b[0m\u001b[0mxdata\u001b[0m\u001b[0;34m)\u001b[0m\u001b[0;34m\u001b[0m\u001b[0;34m\u001b[0m\u001b[0m\n\u001b[0m",
      "\u001b[0;31mNameError\u001b[0m: name 'go' is not defined"
     ]
    }
   ],
   "source": [
    "import plotly.express as px\n",
    "import plotly.graph_objs as go\n",
    "\n",
    "xdataGene = #gene\n",
    "ydataGC = #gc-content\n",
    "histogram = go.Histogram(x=xdataGene, y=ydataGC)"
   ]
  },
  {
   "cell_type": "markdown",
   "metadata": {},
   "source": [
    "__FOURTH CELL OF PROBLEM 1:__\n",
    "\n",
    "g. Make a histogram of the sequence length for all yeast genes."
   ]
  },
  {
   "cell_type": "code",
   "execution_count": null,
   "metadata": {
    "collapsed": true
   },
   "outputs": [],
   "source": [
    "xdataGene = #gene list\n",
    "ydataLength = #length data"
   ]
  },
  {
   "cell_type": "markdown",
   "metadata": {},
   "source": [
    "__FIFTH CELL OF PROBLEM 1:__\n",
    "\n",
    "h. Make a 2D density plot of GC vs sequence length."
   ]
  },
  {
   "cell_type": "code",
   "execution_count": null,
   "metadata": {
    "collapsed": true
   },
   "outputs": [],
   "source": []
  },
  {
   "cell_type": "markdown",
   "metadata": {},
   "source": [
    "## 2. PlotLy contour plot of BMI:\n",
    "\n",
    "From wikipedia:\n",
    "\n",
    ">The body mass index (BMI) or Quetelet index is a value derived from the mass (weight) and height of an individual. The BMI is defined as the body mass divided by the square of the body height, and is universally expressed in units of kg/m2, resulting from mass in kilograms and height in metres.\n",
    "\n",
    "Create a function to calculate BMI from height and weight and make a 2D contour chart showing the BMI for heights between 1.4 and 2.2m and weights between 40 and 120kg, indicating the healthy range for BMI.\n",
    "\n",
    "__FIRST CELL OF PROBLEM 2:__\n",
    "\n",
    "\n",
    "a. Use numpy's linspace to have 100 points for height and 100 for weight.\n",
    "\n",
    "b. We are going to use plotly's `Contour` plot, it takes as input a single variable, z. This should be a list of lists, which you can think of as a matrix. For each value of height, you should calculate BMI for all values of weight, put these in a list and the list to a list of lists. \n",
    "\n",
    "c. By the end of this cell you need three variables, a list (or numpy array) with the height values, a list (or numpy array) with the weight values, and a list of lists with the bmi values."
   ]
  },
  {
   "cell_type": "code",
   "execution_count": null,
   "metadata": {
    "collapsed": true
   },
   "outputs": [],
   "source": []
  },
  {
   "cell_type": "markdown",
   "metadata": {},
   "source": [
    "__SECOND CELL OF PROBLEM 2:__\n",
    "\n",
    "d. Use plotly's `Contour` to create a graph like the one below:\n",
    "\n",
    "![BMI Plot](bmi0.png)"
   ]
  },
  {
   "cell_type": "code",
   "execution_count": null,
   "metadata": {
    "collapsed": true
   },
   "outputs": [],
   "source": []
  },
  {
   "cell_type": "markdown",
   "metadata": {},
   "source": [
    "__THIRD CELL OF PROBLEM 2:__\n",
    "\n",
    "e. To be most useful, your contour plot should have only three levels, low bmi, good bmi, and high bmi. The cut-offs for these are 18 and 25, your graph should look like the one below (the colors don't matter).\n",
    "\n",
    "![BMI Plot 2](bmi.png)"
   ]
  },
  {
   "cell_type": "code",
   "execution_count": null,
   "metadata": {
    "collapsed": true
   },
   "outputs": [],
   "source": []
  }
 ],
 "metadata": {
  "kernelspec": {
   "display_name": "Python 3",
   "language": "python",
   "name": "python3"
  },
  "language_info": {
   "codemirror_mode": {
    "name": "ipython",
    "version": 3
   },
   "file_extension": ".py",
   "mimetype": "text/x-python",
   "name": "python",
   "nbconvert_exporter": "python",
   "pygments_lexer": "ipython3",
   "version": "3.9.9"
  }
 },
 "nbformat": 4,
 "nbformat_minor": 2
}
