{
 "cells": [
  {
   "cell_type": "markdown",
   "metadata": {},
   "source": [
    "# 1. Partial Correlations\n",
    "\n",
    "Modify the code of the `partial_cor()` function from Class 09d, so that it takes as input a correlation matrix and the name of one variable, and returns the partial correlation for each pair of variables controlled for the variable you passed to the function.\n",
    "\n",
    "For example, if you use the correlation matrices that we calculated in Class 9d, you could use the function by calling: `partial_cor(cor1, CAI)`, this would return the partial correlation of each pair of variables (minus CAI) controlled by CAI.\n",
    "\n",
    "To do this, please save the `result` dataframe from Class 9d to a file, copy the file to the homework directory, read the file into a datframe, calculate the correlation matrix, and finally test your function."
   ]
  },
  {
   "cell_type": "code",
   "execution_count": null,
   "metadata": {
    "collapsed": true
   },
   "outputs": [],
   "source": [
    "def partial_cor(cor,x,y,z):\n",
    "    from math import sqrt\n",
    "    rdk = ((cor[x][y]-cor[x][z]*cor[y][z])/ \n",
    "       (sqrt(1-cor[x][z]**2)*sqrt(1-cor[y][z]**2)))\n",
    "    return rdk"
   ]
  },
  {
   "cell_type": "markdown",
   "metadata": {},
   "source": [
    "# 2. Results from Wall et al.\n",
    "\n",
    "Scrape Table 1 from Wall et al from the PNAS website (https://www.pnas.org/content/102/15/5483/) using BeautifulSoup and print the value of the BeautifulSoup variable containing the table using the `IPYthon.display.Markdown` function."
   ]
  },
  {
   "cell_type": "code",
   "execution_count": null,
   "metadata": {
    "collapsed": true
   },
   "outputs": [],
   "source": []
  }
 ],
 "metadata": {
  "kernelspec": {
   "display_name": "Python 3",
   "language": "python",
   "name": "python3"
  },
  "language_info": {
   "codemirror_mode": {
    "name": "ipython",
    "version": 3
   },
   "file_extension": ".py",
   "mimetype": "text/x-python",
   "name": "python",
   "nbconvert_exporter": "python",
   "pygments_lexer": "ipython3",
   "version": "3.6.3"
  }
 },
 "nbformat": 4,
 "nbformat_minor": 2
}
