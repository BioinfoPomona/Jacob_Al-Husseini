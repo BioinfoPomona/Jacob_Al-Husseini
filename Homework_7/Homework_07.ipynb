{
 "cells": [
  {
   "cell_type": "markdown",
   "metadata": {},
   "source": [
    "# 1. Partial Correlations\n",
    "\n",
    "Modify the code of the `partial_cor()` function from Class 09d, so that it takes as input a correlation matrix and the name of one variable, and returns the partial correlation for each pair of variables controlled for the variable you passed to the function.\n",
    "\n",
    "For example, if you use the correlation matrices that we calculated in Class 9d, you could use the function by calling: `partial_cor(cor1, CAI)`, this would return the partial correlation of each pair of variables (minus CAI) controlled by CAI.\n",
    "\n",
    "To do this, please save the `result` dataframe from Class 9d to a file, copy the file to the homework directory, read the file into a datframe, calculate the correlation matrix, and finally test your function."
   ]
  },
  {
   "cell_type": "code",
   "execution_count": 75,
   "metadata": {
    "collapsed": true
   },
   "outputs": [
    {
     "data": {
      "text/plain": [
       "0.12622036916387425"
      ]
     },
     "execution_count": 75,
     "metadata": {},
     "output_type": "execute_result"
    }
   ],
   "source": [
    "import pandas as pd\n",
    "import numpy as np\n",
    "import matplotlib.pyplot as plt\n",
    "%matplotlib notebook\n",
    "\n",
    "data_frame = pd.read_csv('result_df.csv')\n",
    "\n",
    "def partial_cor(cor,var,var2,var3):\n",
    "   var = input('Please enter the variable you want to obtain a partial correlation for:')\n",
    "   for i in range(3,13):\n",
    "      if var == data_frame.columns[i] or data_frame.columns[i+1]:\n",
    "         var2 = data_frame.columns[i+1]\n",
    "         var3 = data_frame.columns[i+2]\n",
    "      from math import sqrt\n",
    "   rdk = ((cor[var][var2]-cor[var][var3]*cor[var2][var3])/ \n",
    "      (sqrt(1-cor[var][var3]**2)*sqrt(1-cor[var2][var3]**2)))\n",
    "   return rdk\n",
    "cor1 = data_frame.corr()\n",
    "cor2 = data_frame.corr(method='spearman')\n",
    "\n",
    "\n",
    "partial_cor(cor1,var,var2,var3)\n",
    "\n"
   ]
  },
  {
   "cell_type": "markdown",
   "metadata": {},
   "source": [
    "# 2. Results from Wall et al.\n",
    "\n",
    "Scrape Table 1 from Wall et al from the PNAS website (https://www.pnas.org/content/102/15/5483/) using BeautifulSoup and print the value of the BeautifulSoup variable containing the table using the `IPYthon.display.Markdown` function."
   ]
  },
  {
   "cell_type": "code",
   "execution_count": 1,
   "metadata": {
    "collapsed": true
   },
   "outputs": [
    {
     "ename": "NameError",
     "evalue": "name 'fulltable' is not defined",
     "output_type": "error",
     "traceback": [
      "\u001b[0;31m---------------------------------------------------------------------------\u001b[0m",
      "\u001b[0;31mNameError\u001b[0m                                 Traceback (most recent call last)",
      "\u001b[0;32m/var/folders/nh/ndvtsscj14j399nr6hrzb4440000gn/T/ipykernel_15851/436315669.py\u001b[0m in \u001b[0;36m<module>\u001b[0;34m\u001b[0m\n\u001b[1;32m     24\u001b[0m                 \u001b[0mfulltable\u001b[0m\u001b[0;34m.\u001b[0m\u001b[0mappend\u001b[0m\u001b[0;34m(\u001b[0m\u001b[0mline\u001b[0m\u001b[0;34m)\u001b[0m\u001b[0;34m\u001b[0m\u001b[0;34m\u001b[0m\u001b[0m\n\u001b[1;32m     25\u001b[0m \u001b[0;34m\u001b[0m\u001b[0m\n\u001b[0;32m---> 26\u001b[0;31m \u001b[0mnewtable\u001b[0m \u001b[0;34m=\u001b[0m \u001b[0mpd\u001b[0m\u001b[0;34m.\u001b[0m\u001b[0mDataFrame\u001b[0m\u001b[0;34m(\u001b[0m\u001b[0mfulltable\u001b[0m\u001b[0;34m,\u001b[0m \u001b[0mcolumn\u001b[0m \u001b[0;34m=\u001b[0m \u001b[0mcolumnNames\u001b[0m\u001b[0;34m)\u001b[0m\u001b[0;34m\u001b[0m\u001b[0;34m\u001b[0m\u001b[0m\n\u001b[0m\u001b[1;32m     27\u001b[0m \u001b[0;34m\u001b[0m\u001b[0m\n\u001b[1;32m     28\u001b[0m \u001b[0mnewtable\u001b[0m\u001b[0;34m\u001b[0m\u001b[0;34m\u001b[0m\u001b[0m\n",
      "\u001b[0;31mNameError\u001b[0m: name 'fulltable' is not defined"
     ]
    }
   ],
   "source": [
    "url = \"https://www.pnas.org/doi/10.1073/pnas.0501761102\"\n",
    "import requests\n",
    "from IPython.display import HTML\n",
    "import IPython.display as display\n",
    "from bs4 import BeautifulSoup\n",
    "import pandas as pd\n",
    "\n",
    "page = requests.get(url)\n",
    "data = page.text\n",
    "soup = BeautifulSoup(data, 'html5lib')\n",
    "\n",
    "for table in soup.find_all(\"table\"):\n",
    "    if table.find('caption'):\n",
    "        fulltable = []\n",
    "        for tr in table.find_all('tr'):\n",
    "            line = []\n",
    "            if tr.find_all('th'):\n",
    "                columnNames = []\n",
    "                for td in tr.find_all('th'):\n",
    "                    columnNames.append(td.get_text().strip())\n",
    "            else:\n",
    "                for td in tr.find_all('td'):\n",
    "                    line.append(td.get_text().strip())\n",
    "                fulltable.append(line)\n",
    "\n",
    "newtable = pd.DataFrame(fulltable, column = columnNames)\n",
    "\n",
    "newtable\n"
   ]
  },
  {
   "cell_type": "code",
   "execution_count": null,
   "metadata": {},
   "outputs": [],
   "source": []
  }
 ],
 "metadata": {
  "kernelspec": {
   "display_name": "Python 3",
   "language": "python",
   "name": "python3"
  },
  "language_info": {
   "codemirror_mode": {
    "name": "ipython",
    "version": 3
   },
   "file_extension": ".py",
   "mimetype": "text/x-python",
   "name": "python",
   "nbconvert_exporter": "python",
   "pygments_lexer": "ipython3",
   "version": "3.9.9"
  }
 },
 "nbformat": 4,
 "nbformat_minor": 2
}
