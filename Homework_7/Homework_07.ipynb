{
 "cells": [
  {
   "cell_type": "markdown",
   "metadata": {},
   "source": [
    "# 1. Partial Correlations\n",
    "\n",
    "Modify the code of the `partial_cor()` function from Class 09d, so that it takes as input a correlation matrix and the name of one variable, and returns the partial correlation for each pair of variables controlled for the variable you passed to the function.\n",
    "\n",
    "For example, if you use the correlation matrices that we calculated in Class 9d, you could use the function by calling: `partial_cor(cor1, CAI)`, this would return the partial correlation of each pair of variables (minus CAI) controlled by CAI.\n",
    "\n",
    "To do this, please save the `result` dataframe from Class 9d to a file, copy the file to the homework directory, read the file into a datframe, calculate the correlation matrix, and finally test your function."
   ]
  },
  {
   "cell_type": "markdown",
   "metadata": {},
   "source": []
  },
  {
   "cell_type": "code",
   "execution_count": 3,
   "metadata": {},
   "outputs": [
    {
     "name": "stdout",
     "output_type": "stream",
     "text": [
      "['CAI', 'dS', 'dN', 'dN/dS', 'dS adjusted', 'dN/dS adjusted', 'fitness', 'fdS', 'fdN', 'fdNdS', 'fdSadj', 'fdNdSadj']\n"
     ]
    },
    {
     "ename": "KeyError",
     "evalue": "'C'",
     "output_type": "error",
     "traceback": [
      "\u001b[0;31m---------------------------------------------------------------------------\u001b[0m",
      "\u001b[0;31mKeyError\u001b[0m                                  Traceback (most recent call last)",
      "\u001b[0;32m~/opt/anaconda3/envs/DataAnalytics/lib/python3.9/site-packages/pandas/core/indexes/base.py\u001b[0m in \u001b[0;36mget_loc\u001b[0;34m(self, key, method, tolerance)\u001b[0m\n\u001b[1;32m   3620\u001b[0m             \u001b[0;32mtry\u001b[0m\u001b[0;34m:\u001b[0m\u001b[0;34m\u001b[0m\u001b[0;34m\u001b[0m\u001b[0m\n\u001b[0;32m-> 3621\u001b[0;31m                 \u001b[0;32mreturn\u001b[0m \u001b[0mself\u001b[0m\u001b[0;34m.\u001b[0m\u001b[0m_engine\u001b[0m\u001b[0;34m.\u001b[0m\u001b[0mget_loc\u001b[0m\u001b[0;34m(\u001b[0m\u001b[0mcasted_key\u001b[0m\u001b[0;34m)\u001b[0m\u001b[0;34m\u001b[0m\u001b[0;34m\u001b[0m\u001b[0m\n\u001b[0m\u001b[1;32m   3622\u001b[0m             \u001b[0;32mexcept\u001b[0m \u001b[0mKeyError\u001b[0m \u001b[0;32mas\u001b[0m \u001b[0merr\u001b[0m\u001b[0;34m:\u001b[0m\u001b[0;34m\u001b[0m\u001b[0;34m\u001b[0m\u001b[0m\n",
      "\u001b[0;32m~/opt/anaconda3/envs/DataAnalytics/lib/python3.9/site-packages/pandas/_libs/index.pyx\u001b[0m in \u001b[0;36mpandas._libs.index.IndexEngine.get_loc\u001b[0;34m()\u001b[0m\n",
      "\u001b[0;32m~/opt/anaconda3/envs/DataAnalytics/lib/python3.9/site-packages/pandas/_libs/index.pyx\u001b[0m in \u001b[0;36mpandas._libs.index.IndexEngine.get_loc\u001b[0;34m()\u001b[0m\n",
      "\u001b[0;32mpandas/_libs/hashtable_class_helper.pxi\u001b[0m in \u001b[0;36mpandas._libs.hashtable.PyObjectHashTable.get_item\u001b[0;34m()\u001b[0m\n",
      "\u001b[0;32mpandas/_libs/hashtable_class_helper.pxi\u001b[0m in \u001b[0;36mpandas._libs.hashtable.PyObjectHashTable.get_item\u001b[0;34m()\u001b[0m\n",
      "\u001b[0;31mKeyError\u001b[0m: 'C'",
      "\nThe above exception was the direct cause of the following exception:\n",
      "\u001b[0;31mKeyError\u001b[0m                                  Traceback (most recent call last)",
      "\u001b[0;32m/var/folders/nh/ndvtsscj14j399nr6hrzb4440000gn/T/ipykernel_38302/3352596539.py\u001b[0m in \u001b[0;36m<module>\u001b[0;34m\u001b[0m\n\u001b[1;32m     27\u001b[0m     \u001b[0mresults\u001b[0m \u001b[0;34m=\u001b[0m \u001b[0mpd\u001b[0m\u001b[0;34m.\u001b[0m\u001b[0mDataFrame\u001b[0m\u001b[0;34m(\u001b[0m\u001b[0mresults\u001b[0m\u001b[0;34m)\u001b[0m\u001b[0;34m\u001b[0m\u001b[0;34m\u001b[0m\u001b[0m\n\u001b[1;32m     28\u001b[0m     \u001b[0;32mreturn\u001b[0m \u001b[0mresults\u001b[0m\u001b[0;34m\u001b[0m\u001b[0;34m\u001b[0m\u001b[0m\n\u001b[0;32m---> 29\u001b[0;31m \u001b[0mpartial_cor_matrix\u001b[0m\u001b[0;34m(\u001b[0m\u001b[0mcor\u001b[0m\u001b[0;34m,\u001b[0m \u001b[0mcar\u001b[0m\u001b[0;34m)\u001b[0m\u001b[0;34m\u001b[0m\u001b[0;34m\u001b[0m\u001b[0m\n\u001b[0m",
      "\u001b[0;32m/var/folders/nh/ndvtsscj14j399nr6hrzb4440000gn/T/ipykernel_38302/3352596539.py\u001b[0m in \u001b[0;36mpartial_cor_matrix\u001b[0;34m(cor, car)\u001b[0m\n\u001b[1;32m     23\u001b[0m             \u001b[0mresults\u001b[0m\u001b[0;34m[\u001b[0m\u001b[0mcar1\u001b[0m\u001b[0;34m]\u001b[0m \u001b[0;34m=\u001b[0m \u001b[0;34m{\u001b[0m\u001b[0;34m}\u001b[0m\u001b[0;34m\u001b[0m\u001b[0;34m\u001b[0m\u001b[0m\n\u001b[1;32m     24\u001b[0m             \u001b[0;32mfor\u001b[0m \u001b[0mcar2\u001b[0m \u001b[0;32min\u001b[0m \u001b[0mcar\u001b[0m\u001b[0;34m:\u001b[0m\u001b[0;34m\u001b[0m\u001b[0;34m\u001b[0m\u001b[0m\n\u001b[0;32m---> 25\u001b[0;31m                 \u001b[0mrdk\u001b[0m \u001b[0;34m=\u001b[0m \u001b[0mpartial_cor\u001b[0m\u001b[0;34m(\u001b[0m\u001b[0mcor\u001b[0m\u001b[0;34m,\u001b[0m \u001b[0mcar1\u001b[0m\u001b[0;34m,\u001b[0m \u001b[0mcar2\u001b[0m\u001b[0;34m,\u001b[0m \u001b[0mcar\u001b[0m\u001b[0;34m)\u001b[0m\u001b[0;34m\u001b[0m\u001b[0;34m\u001b[0m\u001b[0m\n\u001b[0m\u001b[1;32m     26\u001b[0m                 \u001b[0mresults\u001b[0m\u001b[0;34m[\u001b[0m\u001b[0mcar1\u001b[0m\u001b[0;34m]\u001b[0m\u001b[0;34m[\u001b[0m\u001b[0mcar2\u001b[0m\u001b[0;34m]\u001b[0m \u001b[0;34m=\u001b[0m \u001b[0mrdk\u001b[0m\u001b[0;34m\u001b[0m\u001b[0;34m\u001b[0m\u001b[0m\n\u001b[1;32m     27\u001b[0m     \u001b[0mresults\u001b[0m \u001b[0;34m=\u001b[0m \u001b[0mpd\u001b[0m\u001b[0;34m.\u001b[0m\u001b[0mDataFrame\u001b[0m\u001b[0;34m(\u001b[0m\u001b[0mresults\u001b[0m\u001b[0;34m)\u001b[0m\u001b[0;34m\u001b[0m\u001b[0;34m\u001b[0m\u001b[0m\n",
      "\u001b[0;32m/var/folders/nh/ndvtsscj14j399nr6hrzb4440000gn/T/ipykernel_38302/3352596539.py\u001b[0m in \u001b[0;36mpartial_cor\u001b[0;34m(cor, x, y, z)\u001b[0m\n\u001b[1;32m     11\u001b[0m \u001b[0;34m\u001b[0m\u001b[0m\n\u001b[1;32m     12\u001b[0m \u001b[0;32mdef\u001b[0m \u001b[0mpartial_cor\u001b[0m\u001b[0;34m(\u001b[0m\u001b[0mcor\u001b[0m\u001b[0;34m,\u001b[0m\u001b[0mx\u001b[0m\u001b[0;34m,\u001b[0m\u001b[0my\u001b[0m\u001b[0;34m,\u001b[0m\u001b[0mz\u001b[0m\u001b[0;34m)\u001b[0m\u001b[0;34m:\u001b[0m\u001b[0;34m\u001b[0m\u001b[0;34m\u001b[0m\u001b[0m\n\u001b[0;32m---> 13\u001b[0;31m     rdk = ((cor[x][y]-cor[x][z]*cor[y][z])/ \n\u001b[0m\u001b[1;32m     14\u001b[0m         (sqrt(1-cor[x][z]**2)*sqrt(1-cor[y][z]**2)))\n\u001b[1;32m     15\u001b[0m     \u001b[0;32mreturn\u001b[0m \u001b[0mrdk\u001b[0m\u001b[0;34m\u001b[0m\u001b[0;34m\u001b[0m\u001b[0m\n",
      "\u001b[0;32m~/opt/anaconda3/envs/DataAnalytics/lib/python3.9/site-packages/pandas/core/frame.py\u001b[0m in \u001b[0;36m__getitem__\u001b[0;34m(self, key)\u001b[0m\n\u001b[1;32m   3504\u001b[0m             \u001b[0;32mif\u001b[0m \u001b[0mself\u001b[0m\u001b[0;34m.\u001b[0m\u001b[0mcolumns\u001b[0m\u001b[0;34m.\u001b[0m\u001b[0mnlevels\u001b[0m \u001b[0;34m>\u001b[0m \u001b[0;36m1\u001b[0m\u001b[0;34m:\u001b[0m\u001b[0;34m\u001b[0m\u001b[0;34m\u001b[0m\u001b[0m\n\u001b[1;32m   3505\u001b[0m                 \u001b[0;32mreturn\u001b[0m \u001b[0mself\u001b[0m\u001b[0;34m.\u001b[0m\u001b[0m_getitem_multilevel\u001b[0m\u001b[0;34m(\u001b[0m\u001b[0mkey\u001b[0m\u001b[0;34m)\u001b[0m\u001b[0;34m\u001b[0m\u001b[0;34m\u001b[0m\u001b[0m\n\u001b[0;32m-> 3506\u001b[0;31m             \u001b[0mindexer\u001b[0m \u001b[0;34m=\u001b[0m \u001b[0mself\u001b[0m\u001b[0;34m.\u001b[0m\u001b[0mcolumns\u001b[0m\u001b[0;34m.\u001b[0m\u001b[0mget_loc\u001b[0m\u001b[0;34m(\u001b[0m\u001b[0mkey\u001b[0m\u001b[0;34m)\u001b[0m\u001b[0;34m\u001b[0m\u001b[0;34m\u001b[0m\u001b[0m\n\u001b[0m\u001b[1;32m   3507\u001b[0m             \u001b[0;32mif\u001b[0m \u001b[0mis_integer\u001b[0m\u001b[0;34m(\u001b[0m\u001b[0mindexer\u001b[0m\u001b[0;34m)\u001b[0m\u001b[0;34m:\u001b[0m\u001b[0;34m\u001b[0m\u001b[0;34m\u001b[0m\u001b[0m\n\u001b[1;32m   3508\u001b[0m                 \u001b[0mindexer\u001b[0m \u001b[0;34m=\u001b[0m \u001b[0;34m[\u001b[0m\u001b[0mindexer\u001b[0m\u001b[0;34m]\u001b[0m\u001b[0;34m\u001b[0m\u001b[0;34m\u001b[0m\u001b[0m\n",
      "\u001b[0;32m~/opt/anaconda3/envs/DataAnalytics/lib/python3.9/site-packages/pandas/core/indexes/base.py\u001b[0m in \u001b[0;36mget_loc\u001b[0;34m(self, key, method, tolerance)\u001b[0m\n\u001b[1;32m   3621\u001b[0m                 \u001b[0;32mreturn\u001b[0m \u001b[0mself\u001b[0m\u001b[0;34m.\u001b[0m\u001b[0m_engine\u001b[0m\u001b[0;34m.\u001b[0m\u001b[0mget_loc\u001b[0m\u001b[0;34m(\u001b[0m\u001b[0mcasted_key\u001b[0m\u001b[0;34m)\u001b[0m\u001b[0;34m\u001b[0m\u001b[0;34m\u001b[0m\u001b[0m\n\u001b[1;32m   3622\u001b[0m             \u001b[0;32mexcept\u001b[0m \u001b[0mKeyError\u001b[0m \u001b[0;32mas\u001b[0m \u001b[0merr\u001b[0m\u001b[0;34m:\u001b[0m\u001b[0;34m\u001b[0m\u001b[0;34m\u001b[0m\u001b[0m\n\u001b[0;32m-> 3623\u001b[0;31m                 \u001b[0;32mraise\u001b[0m \u001b[0mKeyError\u001b[0m\u001b[0;34m(\u001b[0m\u001b[0mkey\u001b[0m\u001b[0;34m)\u001b[0m \u001b[0;32mfrom\u001b[0m \u001b[0merr\u001b[0m\u001b[0;34m\u001b[0m\u001b[0;34m\u001b[0m\u001b[0m\n\u001b[0m\u001b[1;32m   3624\u001b[0m             \u001b[0;32mexcept\u001b[0m \u001b[0mTypeError\u001b[0m\u001b[0;34m:\u001b[0m\u001b[0;34m\u001b[0m\u001b[0;34m\u001b[0m\u001b[0m\n\u001b[1;32m   3625\u001b[0m                 \u001b[0;31m# If we have a listlike key, _check_indexing_error will raise\u001b[0m\u001b[0;34m\u001b[0m\u001b[0;34m\u001b[0m\u001b[0m\n",
      "\u001b[0;31mKeyError\u001b[0m: 'C'"
     ]
    }
   ],
   "source": [
    "import pandas as pd\n",
    "import numpy as np\n",
    "import matplotlib.pyplot as plt\n",
    "from math import sqrt\n",
    "%matplotlib notebook\n",
    "\n",
    "data_frame = pd.read_csv('result_df.csv', index_col = 0)\n",
    "\n",
    "cor = data_frame.corr()\n",
    "car = \"CAI\"\n",
    "\n",
    "def partial_cor(cor,x,y,z):\n",
    "    rdk = ((cor[x][y]-cor[x][z]*cor[y][z])/ \n",
    "        (sqrt(1-cor[x][z]**2)*sqrt(1-cor[y][z]**2)))\n",
    "    return rdk\n",
    "\n",
    "def partial_cor_matrix(cor, car):\n",
    "    vars = list(cor.columns)\n",
    "    print(vars)\n",
    "    vars.remove(car)\n",
    "    results = {}\n",
    "    for car1 in car:\n",
    "            results[car1] = {}\n",
    "            for car2 in car:\n",
    "                rdk = partial_cor(cor, car1, car2, car)\n",
    "                results[car1][car2] = rdk\n",
    "    results = pd.DataFrame(results)\n",
    "    return results\n",
    "partial_cor_matrix(cor, car)\n"
   ]
  },
  {
   "cell_type": "markdown",
   "metadata": {},
   "source": [
    "# 2. Results from Wall et al.\n",
    "\n",
    "Scrape Table 1 from Wall et al from the PNAS website (https://www.pnas.org/content/102/15/5483/) using BeautifulSoup and print the value of the BeautifulSoup variable containing the table using the `IPYthon.display.Markdown` function."
   ]
  },
  {
   "cell_type": "code",
   "execution_count": 1,
   "metadata": {
    "collapsed": true
   },
   "outputs": [
    {
     "data": {
      "text/markdown": [
       "<table><thead><tr data-xml-align=\"center\" data-xml-valign=\"top\"><th data-xml-align=\"left\"> Evolution rate </th><th> Dispensability </th><th><i>r</i><sub>dk</sub></th><th> Expression </th><th><i>r</i><sub>xk</sub></th><th><i>r</i><sub>dk|x</sub></th><th><i>x</i>k|d </th></tr></thead><tbody><tr data-xml-align=\"center\" data-xml-valign=\"top\"><td data-xml-align=\"left\"> dN/dS′ </td><td data-xml-align=\"left\"> Warringer <i>et al.</i></td><td> 0.239 np </td><td data-xml-align=\"left\"> mRNA abundance </td><td> -0.368 np </td><td> 0.183 np </td><td> -0.328 np </td></tr><tr data-xml-align=\"center\" data-xml-valign=\"top\"><td> </td><td> </td><td> </td><td data-xml-align=\"left\"> CAI </td><td> -0.528 np </td><td> 0.190 np </td><td> -0.513 np </td></tr><tr data-xml-align=\"center\" data-xml-valign=\"top\"><td data-xml-align=\"left\"> dN </td><td data-xml-align=\"left\"> Warringer <i>et al.</i></td><td> 0.237 np </td><td data-xml-align=\"left\"> mRNA abundance </td><td> -0.363 np </td><td> 0.181 np </td><td> -0.324 np </td></tr><tr data-xml-align=\"center\" data-xml-valign=\"top\"><td> </td><td> </td><td> </td><td data-xml-align=\"left\"> CAI </td><td> -0.493 np </td><td> 0.189 np </td><td> -0.478 np </td></tr><tr data-xml-align=\"center\" data-xml-valign=\"top\"><td data-xml-align=\"left\"> dN/dS′ </td><td data-xml-align=\"left\"> SGTC </td><td> 0.230 np </td><td data-xml-align=\"left\"> mRNA abundance </td><td> -0.368 np </td><td> 0.166 np </td><td> -0.330 np </td></tr><tr data-xml-align=\"center\" data-xml-valign=\"top\"><td> </td><td> </td><td> </td><td data-xml-align=\"left\"> CAI </td><td> -0.528 np </td><td> 0.187 np </td><td> -0.516 np </td></tr><tr data-xml-align=\"center\" data-xml-valign=\"top\"><td data-xml-align=\"left\"> dN </td><td data-xml-align=\"left\"> SGTC </td><td> 0.227 np </td><td data-xml-align=\"left\"> mRNA abundance </td><td> -0.363 np </td><td> 0.163 np </td><td> -0.325 np </td></tr><tr data-xml-align=\"center\" data-xml-valign=\"top\"><td> </td><td> </td><td> </td><td data-xml-align=\"left\"> CAI </td><td> -0.493 np </td><td> 0.185 np </td><td> -0.479 np </td></tr><tr data-xml-align=\"center\" data-xml-valign=\"top\"><td data-xml-align=\"left\"> dN/dS′ </td><td data-xml-align=\"left\"> Warringer <i>et al.</i></td><td> 0.274 </td><td data-xml-align=\"left\"> mRNA abundance </td><td> -0.279 </td><td> 0.259 </td><td> -0.256 </td></tr><tr data-xml-align=\"center\" data-xml-valign=\"top\"><td> </td><td> </td><td> </td><td data-xml-align=\"left\"> CAI </td><td> -0.522 </td><td> 0.241 </td><td> -0.505 </td></tr><tr data-xml-align=\"center\" data-xml-valign=\"top\"><td data-xml-align=\"left\"> dN </td><td data-xml-align=\"left\"> Warringer <i>et al.</i></td><td> 0.274 </td><td data-xml-align=\"left\"> mRNA abundance </td><td> -0.282 </td><td> 0.259 </td><td> -0.259 </td></tr><tr data-xml-align=\"center\" data-xml-valign=\"top\"><td> </td><td> </td><td> </td><td data-xml-align=\"left\"> CAI </td><td> -0.509 </td><td> 0.241 </td><td> -0.491 </td></tr><tr data-xml-align=\"center\" data-xml-valign=\"top\"><td data-xml-align=\"left\"> dN/dS′ </td><td data-xml-align=\"left\"> SGTC </td><td> 0.264 </td><td data-xml-align=\"left\"> mRNA abundance </td><td> -0.279 </td><td> 0.252 </td><td> -0.258 </td></tr><tr data-xml-align=\"center\" data-xml-valign=\"top\"><td> </td><td> </td><td> </td><td data-xml-align=\"left\"> CAI </td><td> -0.522 </td><td> 0.232 </td><td> -0.505 </td></tr><tr data-xml-align=\"center\" data-xml-valign=\"top\"><td data-xml-align=\"left\"> dN </td><td data-xml-align=\"left\"> SGTC </td><td> 0.264 </td><td data-xml-align=\"left\"> mRNA abundance </td><td> -0.282 </td><td> 0.251 </td><td> -0.262 </td></tr><tr data-xml-align=\"center\" data-xml-valign=\"top\"><td> </td><td> </td><td> </td><td data-xml-align=\"left\"> CAI </td><td> -0.509 </td><td> 0.232 </td><td> -0.491 </td></tr></tbody></table>"
      ],
      "text/plain": [
       "<IPython.core.display.Markdown object>"
      ]
     },
     "execution_count": 1,
     "metadata": {},
     "output_type": "execute_result"
    }
   ],
   "source": [
    "url = \"https://www.pnas.org/doi/10.1073/pnas.0501761102\"\n",
    "import requests\n",
    "from IPython.display import HTML, Markdown\n",
    "import IPython.display as display\n",
    "from bs4 import BeautifulSoup\n",
    "import pandas as pd\n",
    "\n",
    "file = open('Functional genomic analysis of the rates of protein evolution | PNAS.html')\n",
    "data = file.read()\n",
    "soup = BeautifulSoup(data, \"html5lib\")\n",
    "\n",
    "table = soup.find('table')\n",
    "Markdown(str(table))"
   ]
  },
  {
   "cell_type": "code",
   "execution_count": null,
   "metadata": {},
   "outputs": [],
   "source": []
  }
 ],
 "metadata": {
  "interpreter": {
   "hash": "46067a6a64b97af7fea3df3d6515bb4936a2f52e7dfe3dd0d039ecc5984e52dd"
  },
  "kernelspec": {
   "display_name": "Python 3.9.9 ('DataAnalytics')",
   "language": "python",
   "name": "python3"
  },
  "language_info": {
   "codemirror_mode": {
    "name": "ipython",
    "version": 3
   },
   "file_extension": ".py",
   "mimetype": "text/x-python",
   "name": "python",
   "nbconvert_exporter": "python",
   "pygments_lexer": "ipython3",
   "version": "3.9.9"
  }
 },
 "nbformat": 4,
 "nbformat_minor": 2
}
